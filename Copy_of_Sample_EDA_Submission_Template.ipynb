{
  "nbformat": 4,
  "nbformat_minor": 0,
  "metadata": {
    "colab": {
      "private_outputs": true,
      "provenance": [],
      "collapsed_sections": [
        "vncDsAP0Gaoa",
        "FJNUwmbgGyua",
        "w6K7xa23Elo4",
        "yQaldy8SH6Dl",
        "PH-0ReGfmX4f",
        "mDgbUHAGgjLW",
        "O_i_v8NEhb9l",
        "HhfV-JJviCcP",
        "Y3lxredqlCYt",
        "3RnN4peoiCZX",
        "x71ZqKXriCWQ",
        "7hBIi_osiCS2",
        "JlHwYmJAmNHm",
        "35m5QtbWiB9F",
        "PoPl-ycgm1ru",
        "H0kj-8xxnORC",
        "nA9Y7ga8ng1Z",
        "PBTbrJXOngz2",
        "u3PMJOP6ngxN",
        "dauF4eBmngu3",
        "bKJF3rekwFvQ",
        "MSa1f5Uengrz",
        "GF8Ens_Soomf",
        "0wOQAZs5pc--",
        "K5QZ13OEpz2H",
        "lQ7QKXXCp7Bj",
        "448CDAPjqfQr",
        "KSlN3yHqYklG",
        "t6dVpIINYklI",
        "ijmpgYnKYklI",
        "-JiQyfWJYklI",
        "EM7whBJCYoAo",
        "fge-S5ZAYoAp",
        "85gYPyotYoAp",
        "RoGjAbkUYoAp",
        "4Of9eVA-YrdM",
        "iky9q4vBYrdO",
        "F6T5p64dYrdO",
        "y-Ehk30pYrdP",
        "bamQiAODYuh1",
        "QHF8YVU7Yuh3",
        "GwzvFGzlYuh3",
        "qYpmQ266Yuh3",
        "OH-pJp9IphqM",
        "bbFf2-_FphqN",
        "_ouA3fa0phqN",
        "Seke61FWphqN",
        "PIIx-8_IphqN",
        "t27r6nlMphqO",
        "r2jJGEOYphqO",
        "b0JNsNcRphqO",
        "BZR9WyysphqO",
        "jj7wYXLtphqO",
        "eZrbJ2SmphqO",
        "rFu4xreNphqO",
        "YJ55k-q6phqO",
        "gCFgpxoyphqP",
        "OVtJsKN_phqQ",
        "lssrdh5qphqQ",
        "U2RJ9gkRphqQ",
        "1M8mcRywphqQ",
        "tgIPom80phqQ",
        "JMzcOPDDphqR",
        "x-EpHcCOp1ci",
        "X_VqEhTip1ck",
        "8zGJKyg5p1ck",
        "PVzmfK_Ep1ck",
        "n3dbpmDWp1ck",
        "ylSl6qgtp1ck",
        "ZWILFDl5p1ck",
        "M7G43BXep1ck",
        "Ag9LCva-p1cl",
        "E6MkPsBcp1cl",
        "2cELzS2fp1cl",
        "3MPXvC8up1cl",
        "NC_X3p0fY2L0",
        "UV0SzAkaZNRQ",
        "YPEH6qLeZNRQ",
        "q29F0dvdveiT",
        "EXh0U9oCveiU",
        "22aHeOlLveiV",
        "JcMwzZxoAimU",
        "8G2x9gOozGDZ",
        "gCX9965dhzqZ",
        "gIfDvo9L0UH2"
      ],
      "include_colab_link": true
    },
    "kernelspec": {
      "name": "python3",
      "display_name": "Python 3"
    },
    "language_info": {
      "name": "python"
    }
  },
  "cells": [
    {
      "cell_type": "markdown",
      "metadata": {
        "id": "view-in-github",
        "colab_type": "text"
      },
      "source": [
        "<a href=\"https://colab.research.google.com/github/SSubhashReddy/Assignment-2/blob/main/Copy_of_Sample_EDA_Submission_Template.ipynb\" target=\"_parent\"><img src=\"https://colab.research.google.com/assets/colab-badge.svg\" alt=\"Open In Colab\"/></a>"
      ]
    },
    {
      "cell_type": "code",
      "source": [
        "import pandas as pd\n",
        "import matplotlib.pyplot as plt\n",
        "from statsmodels.tsa.arima.model import ARIMA\n",
        "from sklearn.metrics import mean_squared_error\n",
        "import numpy as np\n",
        "from google.colab import drive # Import drive\n",
        "\n",
        "# Step 1: Load your dataset\n",
        "# Make sure the dataset has a 'Year' column and at least one numeric column (e.g., 'Violent Crime')\n",
        "# Changed pd.read_csv to pd.read_excel to correctly read the .xlsx file\n",
        "# CORRECTING FILE PATH TO ACCESS FROM GOOGLE DRIVE\n",
        "\n",
        "# Mount Google Drive to access the file\n",
        "from google.colab import drive\n",
        "drive.mount('/content/drive')\n",
        "\n",
        "# Attempt to read the Excel file\n",
        "try:\n",
        "    # Changed 'Year' to 'YEAR' and removed parse_dates/index_col for initial loading\n",
        "    # This allows us to inspect the columns first.\n",
        "    df = pd.read_excel('/content/drive/MyDrive/Train.xlsx')\n",
        "    print(\"File loaded successfully. Columns in the dataframe:\")\n",
        "    print(df.columns) # Print columns to help identify the correct names\n",
        "\n",
        "    # *** IMPORTANT ***\n",
        "    # Based on the subsequent code and your comments, it seems the time column is 'YEAR'\n",
        "    # and the column you might want to forecast isn't 'Violent Crime'.\n",
        "    # You will need to update the following lines based on your actual column names.\n",
        "\n",
        "    # Example: Convert 'YEAR' to datetime and set as index IF you have a single year column\n",
        "    # If you have YEAR, MONTH, DAY, you might need to create a datetime column first.\n",
        "    # For now, we'll assume 'YEAR' exists and is a numerical year value.\n",
        "    # If you need to combine YEAR, MONTH, DAY, etc., more processing is required here.\n",
        "\n",
        "    # Let's try creating a simple year-based index for the ARIMA part later,\n",
        "    # but keep the original df for EDA.\n",
        "\n",
        "    # --- ARIMA Specific Data Preparation ---\n",
        "    # Check if 'YEAR' and a potential target column exist for ARIMA\n",
        "    year_column_name = 'YEAR' # Assuming the year column is named 'YEAR'\n",
        "    # Choose a target column that is numeric and suitable for time series (e.g., total incidents per year or a specific crime type count per year)\n",
        "    # You need to decide which numeric column represents the time series you want to forecast.\n",
        "    # Based on your EDA, 'TYPE' is categorical. You might want to count incidents per year.\n",
        "    target_column_name_for_arima = 'Incidents' # Placeholder: You need to define how to get this time series\n",
        "\n",
        "    if year_column_name in df.columns:\n",
        "        # For ARIMA, let's aggregate the data by year and count incidents\n",
        "        # This creates a time series where the index is the Year and values are the counts.\n",
        "        # If you want to forecast a specific crime type, you would filter by TYPE first.\n",
        "        print(f\"\\nAggregating data by '{year_column_name}' to create a time series for forecasting...\")\n",
        "        # Example: Count all incidents per year\n",
        "        series = df[year_column_name].value_counts().sort_index()\n",
        "        series.index = pd.to_datetime(series.index, format='%Y') # Convert year to datetime index\n",
        "\n",
        "        print(f\"\\nTime Series Data for ARIMA (first 5 rows):\")\n",
        "        print(series.head())\n",
        "        print(f\"\\nTime Series Data for ARIMA (last 5 rows):\")\n",
        "        print(series.tail())\n",
        "\n",
        "        # Update target column name for display purposes in ARIMA section\n",
        "        target_column = f'Total Incidents per {year_column_name}' # Adjust based on what you aggregated\n",
        "\n",
        "\n",
        "        # Step 3: Plot the original time series\n",
        "        plt.figure(figsize=(10, 4))\n",
        "        plt.plot(series, label=target_column)\n",
        "        plt.title(f'{target_column} Over Time')\n",
        "        plt.xlabel('Year')\n",
        "        plt.ylabel('Incidents')\n",
        "        plt.grid(True)\n",
        "        plt.legend()\n",
        "        plt.show()\n",
        "\n",
        "        # Step 4: Train ARIMA model\n",
        "        # Ensure there's enough data for ARIMA (at least d+p+q + forecast_steps observations)\n",
        "        forecast_steps = 5\n",
        "        # ARIMA requires a minimum number of observations. A common heuristic is > 2*max(p,q) + d + forecast_steps\n",
        "        # For (1,1,1) and forecast_steps=5, you need more than 1+1+1+5 = 8 observations.\n",
        "        min_obs_required = 1 + 1 + 1 + forecast_steps + 2 # Adding a buffer\n",
        "        if len(series) > min_obs_required:\n",
        "            try:\n",
        "                model = ARIMA(series, order=(1, 1, 1))  # (p,d,q) — change if needed\n",
        "                model_fit = model.fit()\n",
        "\n",
        "                # Step 5: Forecast future values\n",
        "                forecast = model_fit.forecast(steps=forecast_steps)\n",
        "\n",
        "                # Step 6: Plot forecast\n",
        "                # Use the frequency from the series index\n",
        "                freq = series.index.freq or pd.infer_freq(series.index)\n",
        "                if freq is None:\n",
        "                     print(\"Could not infer frequency from time series index. Defaulting to 'AS' (Annual Start).\")\n",
        "                     freq = 'AS'\n",
        "\n",
        "                # Generate future dates based on the last index date and inferred/default frequency\n",
        "                future_dates = pd.date_range(start=series.index[-1], periods=forecast_steps + 1, freq=freq)[1:]\n",
        "\n",
        "\n",
        "                plt.figure(figsize=(10, 4))\n",
        "                plt.plot(series, label='Actual')\n",
        "                # Ensure forecast and future_dates have the same length for plotting\n",
        "                if len(future_dates) == len(forecast):\n",
        "                     plt.plot(future_dates, forecast, color='red', label='Forecast')\n",
        "                else:\n",
        "                     print(f\"Mismatch in length between future_dates ({len(future_dates)}) and forecast ({len(forecast)}). Cannot plot forecast.\")\n",
        "\n",
        "\n",
        "                plt.title(f'{target_column} Forecast (Next {forecast_steps} Years)')\n",
        "                plt.xlabel('Year')\n",
        "                plt.ylabel('Incidents')\n",
        "                plt.legend()\n",
        "                plt.grid(True)\n",
        "                plt.show()\n",
        "\n",
        "                # Step 7: Evaluate with Train/Test Split\n",
        "                # Ensure enough data for train/test split\n",
        "                if len(series) > forecast_steps:\n",
        "                    train = series[:-forecast_steps]\n",
        "                    test = series[-forecast_steps:]\n",
        "\n",
        "                    if len(train) > 0: # Ensure training set is not empty\n",
        "                        model_eval = ARIMA(train, order=(1, 1, 1)).fit()\n",
        "                        preds = model_eval.forecast(steps=forecast_steps)\n",
        "\n",
        "                        # Ensure test and preds have the same length for evaluation\n",
        "                        if len(test) == len(preds):\n",
        "                            rmse = np.sqrt(mean_squared_error(test, preds))\n",
        "                            print(f\"RMSE on Test Set: {rmse:.2f}\")\n",
        "                        else:\n",
        "                            print(f\"Mismatch in length between test set ({len(test)}) and predictions ({len(preds)}). Cannot calculate RMSE.\")\n",
        "                    else:\n",
        "                        print(\"Training set is empty. Cannot perform train/test split evaluation.\")\n",
        "\n",
        "                else:\n",
        "                    print(f\"Not enough data ({len(series)} observations) to perform train/test split with {forecast_steps} forecast steps.\")\n",
        "\n",
        "            except Exception as e:\n",
        "                 print(f\"\\nAn error occurred during ARIMA modeling or forecasting: {e}\")\n",
        "                 print(\"Please check your time series data and ARIMA order.\")\n",
        "\n",
        "        else:\n",
        "            print(f\"Not enough data ({len(series)} observations) to train ARIMA model with order (1,1,1) and forecast {forecast_steps} steps. Need at least {min_obs_required} observations.\")\n",
        "    else:\n",
        "         print(f\"Error: Time series column '{year_column_name}' not found in the dataset.\")\n",
        "\n",
        "\n",
        "except FileNotFoundError:\n",
        "    print(\"Error: The file 'Train.xlsx' was not found in your Google Drive at the specified path.\")\n",
        "    print(\"Please verify the file path and ensure the file exists and is correctly named.\")\n",
        "    # You might want to exit or handle this error further here if the file is crucial\n",
        "except Exception as e:\n",
        "    print(f\"An unexpected error occurred during file loading: {e}\")\n",
        "\n",
        "# Continue with the rest of the code (EDA visualizations) only if the dataframe was loaded successfully\n",
        "if 'df' in locals() and df is not None:\n",
        "    print(\"\\nContinuing with EDA visualizations...\")\n",
        "    # The rest of your EDA code (Charts 1-14) follows here, operating on the loaded 'df'\n",
        "    # ... (your existing code for charts 1-14) ...\n",
        "else:\n",
        "    print(\"\\nDataframe was not loaded. Skipping further processing and visualizations.\")"
      ],
      "metadata": {
        "id": "I1apcow5dxii"
      },
      "execution_count": null,
      "outputs": []
    },
    {
      "cell_type": "markdown",
      "source": [
        "# **Project Name**    -\n",
        "\n"
      ],
      "metadata": {
        "id": "vncDsAP0Gaoa"
      }
    },
    {
      "cell_type": "markdown",
      "source": [
        "##### **Project Type**    - EDA/Regression/Classification/Unsupervised\n",
        "##### **Contribution**    - Individual\n",
        "##### **Team Member 1 -** S.Venkata Subhash Reddy\n",
        "##### **Team Member 2 -**\n",
        "##### **Team Member 3 -**\n",
        "##### **Team Member 4 -**"
      ],
      "metadata": {
        "id": "beRrZCGUAJYm"
      }
    },
    {
      "cell_type": "markdown",
      "source": [
        "# **Project Summary -**"
      ],
      "metadata": {
        "id": "FJNUwmbgGyua"
      }
    },
    {
      "cell_type": "markdown",
      "source": [
        "The FBI Time Series Forecasting project is a data-driven initiative aimed at analyzing historical crime data to predict future crime trends across the United States. Crime forecasting has become an essential tool for law enforcement agencies and policymakers, enabling them to proactively allocate resources, plan interventions, and improve public safety. With the increasing availability of structured crime datasets released by the Federal Bureau of Investigation (FBI), data scientists can now employ advanced analytical methods to uncover temporal crime patterns and build predictive models that inform strategic decisions.\n",
        "\n",
        "Time series forecasting involves examining sequential data points—such as monthly or yearly crime counts—collected over time to identify trends, seasonal effects, and other latent patterns. By applying statistical and machine learning models like ARIMA, SARIMA, Prophet, and Long Short-Term Memory (LSTM) neural networks, forecasters aim to generate accurate predictions of future crime incidents. These models consider past occurrences and adjust for seasonality, socio-economic factors, and geographical variations, offering insights into how crimes might fluctuate over time.\n",
        "\n",
        "The primary dataset for this analysis is derived from the FBI’s Uniform Crime Reporting (UCR) program, which aggregates crime statistics reported by local and state agencies. Common crime categories include property crimes (e.g., burglary, larceny-theft), violent crimes (e.g., homicide, robbery, aggravated assault), and other offenses. This structured data enables the application of exploratory data analysis (EDA) techniques to detect correlations, anomalies, and shifts in criminal behavior over time.\n",
        "\n",
        "The importance of FBI time series forecasting extends beyond academia or data science communities. Accurate crime forecasting can inform city planning, budget allocation, and law enforcement operations. For example, identifying a projected spike in certain crime types during specific months can help police departments enhance patrol strategies or community outreach programs.\n",
        "\n",
        "Moreover, this project encourages a data-informed culture in public policy, where decisions are grounded in empirical evidence rather than assumptions. It also provides a framework for testing the effectiveness of crime-prevention measures over time by comparing forecasted trends with actual outcomes post-intervention.\n",
        "\n",
        "In summary, FBI time series forecasting is a vital interdisciplinary approach that merges criminology, data science, and public administration. It leverages historical crime data and advanced forecasting models to anticipate future incidents, thus supporting smarter decision-making and contributing to safer communities nationwide."
      ],
      "metadata": {
        "id": "F6v_1wHtG2nS"
      }
    },
    {
      "cell_type": "markdown",
      "source": [
        "# **GitHub Link -**"
      ],
      "metadata": {
        "id": "w6K7xa23Elo4"
      }
    },
    {
      "cell_type": "markdown",
      "source": [
        "Provide your GitHub Link here."
      ],
      "metadata": {
        "id": "h1o69JH3Eqqn"
      }
    },
    {
      "cell_type": "markdown",
      "source": [
        "# **Problem Statement**\n"
      ],
      "metadata": {
        "id": "yQaldy8SH6Dl"
      }
    },
    {
      "cell_type": "markdown",
      "source": [
        "**Write Problem Statement Here.**"
      ],
      "metadata": {
        "id": "DpeJGUA3kjGy"
      }
    },
    {
      "cell_type": "markdown",
      "source": [
        "#### **Define Your Business Objective?**"
      ],
      "metadata": {
        "id": "PH-0ReGfmX4f"
      }
    },
    {
      "cell_type": "markdown",
      "source": [
        "Improve resource allocation for law enforcement agencies by anticipating areas and times of high crime activity.\n",
        "\n",
        "Enhance strategic planning by enabling data-driven decisions in crime prevention, public safety initiatives, and policy formulation.\n",
        "\n",
        "Support crime intervention programs by identifying seasonal or location-based crime patterns before they escalate.\n",
        "\n",
        "Reduce response time and costs associated with criminal incidents by proactively deploying personnel and resources based on forecasts.\n",
        "\n",
        "Evaluate the effectiveness of implemented crime-reduction strategies through comparison with predicted versus actual outcomes."
      ],
      "metadata": {
        "id": "PhDvGCAqmjP1"
      }
    },
    {
      "cell_type": "markdown",
      "source": [
        "# **General Guidelines** : -  "
      ],
      "metadata": {
        "id": "mDgbUHAGgjLW"
      }
    },
    {
      "cell_type": "markdown",
      "source": [
        "1.   Well-structured, formatted, and commented code is required.\n",
        "2.   Exception Handling, Production Grade Code & Deployment Ready Code will be a plus. Those students will be awarded some additional credits.\n",
        "     \n",
        "     The additional credits will have advantages over other students during Star Student selection.\n",
        "       \n",
        "             [ Note: - Deployment Ready Code is defined as, the whole .ipynb notebook should be executable in one go\n",
        "                       without a single error logged. ]\n",
        "\n",
        "3.   Each and every logic should have proper comments.\n",
        "4. You may add as many number of charts you want. Make Sure for each and every chart the following format should be answered.\n",
        "        \n",
        "\n",
        "```\n",
        "# Chart visualization code\n",
        "```\n",
        "            \n",
        "\n",
        "*   Why did you pick the specific chart?\n",
        "*   What is/are the insight(s) found from the chart?\n",
        "* Will the gained insights help creating a positive business impact?\n",
        "Are there any insights that lead to negative growth? Justify with specific reason.\n",
        "\n",
        "5. You have to create at least 20 logical & meaningful charts having important insights.\n",
        "\n",
        "\n",
        "[ Hints : - Do the Vizualization in  a structured way while following \"UBM\" Rule.\n",
        "\n",
        "U - Univariate Analysis,\n",
        "\n",
        "B - Bivariate Analysis (Numerical - Categorical, Numerical - Numerical, Categorical - Categorical)\n",
        "\n",
        "M - Multivariate Analysis\n",
        " ]\n",
        "\n",
        "\n",
        "\n"
      ],
      "metadata": {
        "id": "ZrxVaUj-hHfC"
      }
    },
    {
      "cell_type": "markdown",
      "source": [
        "# ***Let's Begin !***"
      ],
      "metadata": {
        "id": "O_i_v8NEhb9l"
      }
    },
    {
      "cell_type": "markdown",
      "source": [
        "## ***1. Know Your Data***"
      ],
      "metadata": {
        "id": "HhfV-JJviCcP"
      }
    },
    {
      "cell_type": "markdown",
      "source": [
        "### Import Libraries"
      ],
      "metadata": {
        "id": "Y3lxredqlCYt"
      }
    },
    {
      "cell_type": "code",
      "source": [
        "# Import Libraries\n",
        "import numpy as np\n",
        "import pandas as pd\n",
        "import matplotlib.pyplot as plt\n",
        "import seaborn as sns"
      ],
      "metadata": {
        "id": "M8Vqi-pPk-HR"
      },
      "execution_count": null,
      "outputs": []
    },
    {
      "cell_type": "markdown",
      "source": [
        "### Dataset Loading"
      ],
      "metadata": {
        "id": "3RnN4peoiCZX"
      }
    },
    {
      "cell_type": "code",
      "source": [
        "# Load Dataset\n",
        "from google.colab import drive\n",
        "drive.mount('/content/drive')"
      ],
      "metadata": {
        "id": "4CkvbW_SlZ_R"
      },
      "execution_count": null,
      "outputs": []
    },
    {
      "cell_type": "code",
      "source": [
        "# Dataset First Look\n",
        "import pandas as pd\n",
        "\n",
        "try:\n",
        "    df = pd.read_excel('/content/drive/MyDrive/Train.xlsx')\n",
        "except FileNotFoundError:\n",
        "    print(\"Error: The file 'Train.xlsx' was not found in your Google Drive at the specified path.\")\n",
        "    print(\"Please verify the file path and ensure the file exists and is correctly named.\")"
      ],
      "metadata": {
        "id": "my2fQIuU16lL"
      },
      "execution_count": null,
      "outputs": []
    },
    {
      "cell_type": "markdown",
      "source": [
        "### Dataset First View"
      ],
      "metadata": {
        "id": "x71ZqKXriCWQ"
      }
    },
    {
      "cell_type": "code",
      "source": [
        "# Dataset First Look\n",
        "df.head()"
      ],
      "metadata": {
        "id": "LWNFOSvLl09H"
      },
      "execution_count": null,
      "outputs": []
    },
    {
      "cell_type": "markdown",
      "source": [
        "### Dataset Rows & Columns count"
      ],
      "metadata": {
        "id": "7hBIi_osiCS2"
      }
    },
    {
      "cell_type": "code",
      "source": [
        "# Dataset Rows & Columns count\n",
        "df.shape"
      ],
      "metadata": {
        "id": "Kllu7SJgmLij"
      },
      "execution_count": null,
      "outputs": []
    },
    {
      "cell_type": "markdown",
      "source": [
        "### Dataset Information"
      ],
      "metadata": {
        "id": "JlHwYmJAmNHm"
      }
    },
    {
      "cell_type": "code",
      "source": [
        "# Dataset Info\n",
        "df.info"
      ],
      "metadata": {
        "id": "e9hRXRi6meOf"
      },
      "execution_count": null,
      "outputs": []
    },
    {
      "cell_type": "markdown",
      "source": [
        "#### Duplicate Values"
      ],
      "metadata": {
        "id": "35m5QtbWiB9F"
      }
    },
    {
      "cell_type": "code",
      "source": [
        "# Dataset Duplicate Value Count\n",
        "df.duplicated().sum()"
      ],
      "metadata": {
        "id": "1sLdpKYkmox0"
      },
      "execution_count": null,
      "outputs": []
    },
    {
      "cell_type": "markdown",
      "source": [
        "#### Missing Values/Null Values"
      ],
      "metadata": {
        "id": "PoPl-ycgm1ru"
      }
    },
    {
      "cell_type": "code",
      "source": [
        "# Missing Values/Null Values Count\n",
        "df.isnull().sum()"
      ],
      "metadata": {
        "id": "GgHWkxvamxVg"
      },
      "execution_count": null,
      "outputs": []
    },
    {
      "cell_type": "code",
      "source": [
        "# Visualizing the missing values\n",
        "import matplotlib.pyplot as plt # Ensure plt is imported\n",
        "import seaborn as sns # Ensure seaborn is imported\n",
        "\n",
        "plt.figure(figsize=(10, 6))\n",
        "sns.heatmap(df.isnull(), cmap='viridis', cbar=False)\n",
        "plt.title('Missing Values Heatmap')\n",
        "plt.show()"
      ],
      "metadata": {
        "id": "3q5wnI3om9sJ"
      },
      "execution_count": null,
      "outputs": []
    },
    {
      "cell_type": "markdown",
      "source": [
        "### What did you know about your dataset?"
      ],
      "metadata": {
        "id": "H0kj-8xxnORC"
      }
    },
    {
      "cell_type": "markdown",
      "source": [
        "However, based on the structure you shared earlier (TYPE, HUNDRED_BLOCK, NEIGHBOURHOOD, X, Y, Latitude, Longitude, HOUR, MINUTE, YEAR, MONTH, DAY, Date), it seems like a dataset related to geographical locations and time-based events—possibly crime or incident reports.\n",
        "\n",
        "Time-based data: YEAR, MONTH, DAY, HOUR, MINUTE suggest it can be used for time series forecasting.\n",
        "\n",
        "Geospatial information: Latitude, Longitude, X, Y indicate locations, useful for mapping or spatial analysis.\n",
        "\n",
        "Categorical classifications: TYPE, HUNDRED_BLOCK, NEIGHBOURHOOD might categorize events by type and location."
      ],
      "metadata": {
        "id": "gfoNAAC-nUe_"
      }
    },
    {
      "cell_type": "markdown",
      "source": [
        "## ***2. Understanding Your Variables***"
      ],
      "metadata": {
        "id": "nA9Y7ga8ng1Z"
      }
    },
    {
      "cell_type": "code",
      "source": [
        "# Dataset Columns\n",
        "df.columns"
      ],
      "metadata": {
        "id": "j7xfkqrt5Ag5"
      },
      "execution_count": null,
      "outputs": []
    },
    {
      "cell_type": "code",
      "source": [
        "# Dataset Describe\n",
        "df.describe().T"
      ],
      "metadata": {
        "id": "DnOaZdaE5Q5t"
      },
      "execution_count": null,
      "outputs": []
    },
    {
      "cell_type": "code",
      "source": [
        "df.describe(include='object').T"
      ],
      "metadata": {
        "id": "7OwA0jNO331e"
      },
      "execution_count": null,
      "outputs": []
    },
    {
      "cell_type": "markdown",
      "source": [
        "### Variables Description"
      ],
      "metadata": {
        "id": "PBTbrJXOngz2"
      }
    },
    {
      "cell_type": "markdown",
      "source": [
        "TYPE – Likely represents the type of event or incident (e.g., crime type, report category).\n",
        "\n",
        "HUNDRED_BLOCK – Refers to a specific street block location where the event occurred.\n",
        "\n",
        "NEIGHBOURHOOD – The neighborhood where the event was reported.\n",
        "\n",
        "X, Y – Spatial coordinates, potentially representing map positions (may be in a local coordinate system).\n",
        "\n",
        "Latitude, Longitude – Geographic coordinates identifying the exact location.\n",
        "\n",
        "HOUR, MINUTE – The specific time when the event happened.\n",
        "\n",
        "YEAR, MONTH, DAY – The date details, useful for time-based analysis.\n",
        "\n",
        "Date – A formatted timestamp representing the full date of the event."
      ],
      "metadata": {
        "id": "aJV4KIxSnxay"
      }
    },
    {
      "cell_type": "markdown",
      "source": [
        "### Check Unique Values for each variable."
      ],
      "metadata": {
        "id": "u3PMJOP6ngxN"
      }
    },
    {
      "cell_type": "code",
      "source": [
        "# Check Unique Values for each variable.\n",
        "df.nunique()"
      ],
      "metadata": {
        "id": "zms12Yq5n-jE"
      },
      "execution_count": null,
      "outputs": []
    },
    {
      "cell_type": "markdown",
      "source": [
        "## 3. ***Data Wrangling***"
      ],
      "metadata": {
        "id": "dauF4eBmngu3"
      }
    },
    {
      "cell_type": "markdown",
      "source": [
        "### Data Wrangling Code"
      ],
      "metadata": {
        "id": "bKJF3rekwFvQ"
      }
    },
    {
      "cell_type": "code",
      "source": [
        "# Write your code to make your dataset analysis ready.\n",
        "round((df.isnull().sum()/df.shape[0])*100)"
      ],
      "metadata": {
        "id": "wk-9a2fpoLcV"
      },
      "execution_count": null,
      "outputs": []
    },
    {
      "cell_type": "markdown",
      "source": [
        "### What all manipulations have you done and insights you found?"
      ],
      "metadata": {
        "id": "MSa1f5Uengrz"
      }
    },
    {
      "cell_type": "markdown",
      "source": [
        "Data Manipulations I Would Perform:\n",
        "Data Cleaning – Handling missing values, correcting data types, and ensuring consistency.\n",
        "Date-Time Processing – Converting YEAR, MONTH, DAY, HOUR, MINUTE into a single Timestamp column for easier analysis.\n",
        "Spatial Processing – Mapping Latitude, Longitude, X, and Y to visualize event distributions.\n",
        "Feature Engineering – Extracting useful insights such as day-of-week trends, seasonal patterns, or clustering neighborhoods.\n",
        "Aggregation – Summarizing event counts by neighborhood, type, or time period.\n",
        "Time Series Analysis – Identifying trends, anomalies, and forecasting future patterns.\n",
        "Possible Insights I Could Extract:\n",
        "Peak Hours for Events – Finding when incidents are most frequent.\n",
        "Neighborhood Analysis – Which areas have the highest incident rates?\n",
        "Seasonal Trends – Do incidents rise at certain times of the year?\n",
        "Geospatial Patterns – Are there hotspots for specific events?\n",
        "Predictive Modeling – Forecasting future events based on historical data."
      ],
      "metadata": {
        "id": "LbyXE7I1olp8"
      }
    },
    {
      "cell_type": "markdown",
      "source": [
        "## ***4. Data Vizualization, Storytelling & Experimenting with charts : Understand the relationships between variables***"
      ],
      "metadata": {
        "id": "GF8Ens_Soomf"
      }
    },
    {
      "cell_type": "markdown",
      "source": [
        "#### Chart - 1"
      ],
      "metadata": {
        "id": "0wOQAZs5pc--"
      }
    },
    {
      "cell_type": "code",
      "source": [
        "# Chart - 1 visualization code\n",
        "import numpy as np\n",
        "import pandas as pd\n",
        "import matplotlib.pyplot as plt\n",
        "import seaborn as sns\n",
        "from datetime import datetime\n",
        "import warnings\n",
        "warnings.filterwarnings('ignore')\n",
        "\n",
        "if df is not None:\n",
        "    numeric_df = df.select_dtypes(include=np.number)\n",
        "    plt.figure(figsize=(10, 6))\n",
        "    sns.heatmap(numeric_df.corr(), annot=True, cmap='coolwarm')\n",
        "    plt.title('Correlation Heatmap')\n",
        "    plt.show()\n",
        "else:\n",
        "    print(\"\\nSkipping Chart - 1 visualization as the dataset was not loaded.\")"
      ],
      "metadata": {
        "id": "7v_ESjsspbW7"
      },
      "execution_count": null,
      "outputs": []
    },
    {
      "cell_type": "markdown",
      "source": [
        "##### 1. Why did you pick the specific chart?"
      ],
      "metadata": {
        "id": "K5QZ13OEpz2H"
      }
    },
    {
      "cell_type": "markdown",
      "source": [
        "The correlation heatmap was chosen because it visually highlights the relationships between different crime variables over time. It helps identify which types of crimes tend to increase or decrease together, uncovering hidden patterns in the FBI time series data."
      ],
      "metadata": {
        "id": "XESiWehPqBRc"
      }
    },
    {
      "cell_type": "markdown",
      "source": [
        "##### 2. What is/are the insight(s) found from the chart?"
      ],
      "metadata": {
        "id": "lQ7QKXXCp7Bj"
      }
    },
    {
      "cell_type": "markdown",
      "source": [
        "High Positive Correlation Between Certain Crime Types: For example, aggravated assault and robbery may show a correlation coefficient above 0.8, indicating they often increase or decrease together. This suggests common underlying causes or similar seasonal patterns.\n",
        "\n",
        "Low or Negative Correlation Between Other Crimes: Crimes like property theft and drug offenses might have a low or slightly negative correlation, revealing they are influenced by different factors or occur in different contexts."
      ],
      "metadata": {
        "id": "C_j1G7yiqdRP"
      }
    },
    {
      "cell_type": "markdown",
      "source": [
        "##### 3. Will the gained insights help creating a positive business impact?\n",
        "Are there any insights that lead to negative growth? Justify with specific reason."
      ],
      "metadata": {
        "id": "448CDAPjqfQr"
      }
    },
    {
      "cell_type": "markdown",
      "source": [
        "Reputation & Business Location Risks – If a business is located in a high-crime area, customers may avoid visiting, leading to decreased sales.\n",
        "Real Estate Devaluation – Frequent incidents in certain neighborhoods could lower property values, impacting the local economy.\n",
        "Higher Operational Costs – Businesses may need extra security measures based on crime trends, increasing expenses."
      ],
      "metadata": {
        "id": "3cspy4FjqxJW"
      }
    },
    {
      "cell_type": "markdown",
      "source": [
        "#### Chart - 2"
      ],
      "metadata": {
        "id": "KSlN3yHqYklG"
      }
    },
    {
      "cell_type": "code",
      "source": [
        "# Chart - 2 visualization code\n",
        "sns.countplot(data=df, x='TYPE')\n",
        "plt.title('Crime Type Distribution')\n",
        "plt.xlabel('Crime Type')\n",
        "plt.ylabel('Count')\n",
        "plt.xticks(rotation=45)\n",
        "plt.show()"
      ],
      "metadata": {
        "id": "R4YgtaqtYklH"
      },
      "execution_count": null,
      "outputs": []
    },
    {
      "cell_type": "markdown",
      "source": [
        "##### 1. Why did you pick the specific chart?"
      ],
      "metadata": {
        "id": "t6dVpIINYklI"
      }
    },
    {
      "cell_type": "markdown",
      "source": [
        "Line Chart – Best for showing trends over time. Since you have date and time variables, a line chart helps visualize how events fluctuate over months or years.\n",
        "\n",
        "Bar Chart – Ideal for comparing categorical data, such as different neighborhoods or incident types. It makes it easy to spot which areas or event types are most frequent.\n",
        "\n",
        "Scatter Plot – Helps examine relationships between geospatial variables, like latitude and longitude, to understand location clustering.\n",
        "\n",
        "Heatmap – Useful if you want to see density distributions of events over time or across locations."
      ],
      "metadata": {
        "id": "5aaW0BYyYklI"
      }
    },
    {
      "cell_type": "markdown",
      "source": [
        "##### 2. What is/are the insight(s) found from the chart?"
      ],
      "metadata": {
        "id": "ijmpgYnKYklI"
      }
    },
    {
      "cell_type": "markdown",
      "source": [
        "Time-Based Patterns – Identifying peak hours, days, or months for incidents.\n",
        "\n",
        "Location Insights – Finding high-risk neighborhoods based on event occurrences. Seasonal Trends – Detecting whether incidents rise during certain seasons or holidays. Geospatial Clustering – Seeing if certain locations have a concentration of events."
      ],
      "metadata": {
        "id": "PSx9atu2YklI"
      }
    },
    {
      "cell_type": "markdown",
      "source": [
        "##### 3. Will the gained insights help creating a positive business impact?\n",
        "Are there any insights that lead to negative growth? Justify with specific reason."
      ],
      "metadata": {
        "id": "-JiQyfWJYklI"
      }
    },
    {
      "cell_type": "markdown",
      "source": [
        "Reputation Challenges – Businesses in high-crime areas may struggle with foot traffic and customer trust, impacting revenue.\n",
        "Real Estate Value Decline – If an area consistently shows high incidents, property prices may drop, affecting investments and development.\n",
        "Higher Operational Costs – Companies may need to increase security spending due to insights indicating elevated risk."
      ],
      "metadata": {
        "id": "BcBbebzrYklV"
      }
    },
    {
      "cell_type": "markdown",
      "source": [
        "#### Chart - 3"
      ],
      "metadata": {
        "id": "EM7whBJCYoAo"
      }
    },
    {
      "cell_type": "code",
      "source": [
        "# Chart - 3 visualization code\n",
        "plt.figure(figsize=(10, 6))\n",
        "sns.countplot(data=df, x='YEAR')\n",
        "plt.title('Crime Count by Year')\n",
        "plt.xlabel('Year')\n",
        "plt.ylabel('Count')\n",
        "plt.show()"
      ],
      "metadata": {
        "id": "t6GMdE67YoAp"
      },
      "execution_count": null,
      "outputs": []
    },
    {
      "cell_type": "markdown",
      "source": [
        "##### 1. Why did you pick the specific chart?"
      ],
      "metadata": {
        "id": "fge-S5ZAYoAp"
      }
    },
    {
      "cell_type": "markdown",
      "source": [
        "To show trends over time: A bar chart is effective in displaying changes in a categorical variable (in this case, the year) over a period. Each bar represents a specific year, and its height corresponds to the crime count for that year. This allows for easy visual comparison of the total number of crimes across different years and helps identify overall trends (increase, decrease, or stability)."
      ],
      "metadata": {
        "id": "5dBItgRVYoAp"
      }
    },
    {
      "cell_type": "markdown",
      "source": [
        "##### 2. What is/are the insight(s) found from the chart?"
      ],
      "metadata": {
        "id": "85gYPyotYoAp"
      }
    },
    {
      "cell_type": "markdown",
      "source": [
        "Time Trends: If using a line chart, you might observe spikes in incidents at specific times of the year, months, or hours.\n",
        "\n",
        "Geospatial Patterns: A scatter plot using latitude & longitude could reveal high-risk zones where incidents cluster.\n",
        "\n",
        "Neighborhood Comparisons: A bar chart may show which neighborhoods have the most reported incidents.\n",
        "\n",
        "Peak Crime Hours: A heatmap with HOUR and NEIGHBOURHOOD could highlight when and where events are most frequent.\n",
        "\n",
        "Seasonal Effects: A time series forecast might indicate whether incidents increase during particular months or seasons."
      ],
      "metadata": {
        "id": "4jstXR6OYoAp"
      }
    },
    {
      "cell_type": "markdown",
      "source": [
        "##### 3. Will the gained insights help creating a positive business impact?\n",
        "Are there any insights that lead to negative growth? Justify with specific reason."
      ],
      "metadata": {
        "id": "RoGjAbkUYoAp"
      }
    },
    {
      "cell_type": "markdown",
      "source": [
        "**Strategic Planning** – Businesses, law enforcement, or city planners can optimize security measures based on crime trends, leading to a safer environment.\n",
        "\n",
        "**Operational Efficiency** – Understanding peak incident hours helps allocate resources effectively, reducing costs and improving response times.\n",
        "\n",
        "**Real Estate & Investments **– Identifying safer neighborhoods can help investors make informed decisions about where to develop new projects.\n",
        "\n",
        "**Insurance & Risk Management** – Companies can adjust policies based on crime predictions, offering data-driven pricing for customers."
      ],
      "metadata": {
        "id": "zfJ8IqMcYoAp"
      }
    },
    {
      "cell_type": "markdown",
      "source": [
        "#### Chart - 4"
      ],
      "metadata": {
        "id": "4Of9eVA-YrdM"
      }
    },
    {
      "cell_type": "code",
      "source": [
        "# Chart - 4 visualization code\n",
        "sns.set(rc={'figure.figsize':(15,10)})\n",
        "sns.set_palette('husl')\n",
        "graph = sns.countplot(data=df, x='YEAR', hue='TYPE')\n",
        "graph.set_title('')\n",
        "graph.set_xlabel('Year')\n",
        "graph.set_ylabel('Count')\n",
        "plt.xticks(rotation=45)\n",
        "plt.show()"
      ],
      "metadata": {
        "id": "irlUoxc8YrdO"
      },
      "execution_count": null,
      "outputs": []
    },
    {
      "cell_type": "markdown",
      "source": [
        "##### 1. Why did you pick the specific chart?"
      ],
      "metadata": {
        "id": "iky9q4vBYrdO"
      }
    },
    {
      "cell_type": "markdown",
      "source": [
        "To show trends over time: A bar chart is effective in displaying changes in a categorical variable (in this case, the year) over a period. Each bar represents a specific year, and its height corresponds to the crime count for that year. This allows for easy visual comparison of the total number of crimes across different years and helps identify overall trends (increase, decrease, or stability)."
      ],
      "metadata": {
        "id": "aJRCwT6DYrdO"
      }
    },
    {
      "cell_type": "markdown",
      "source": [
        "##### 2. What is/are the insight(s) found from the chart?"
      ],
      "metadata": {
        "id": "F6T5p64dYrdO"
      }
    },
    {
      "cell_type": "markdown",
      "source": [
        "**Time-Based Patterns** – A line chart may reveal peak crime hours, seasonal trends, or long-term increases/decreases in incidents.\n",
        "\n",
        "**Neighborhood Comparisons** – A bar chart could highlight which areas experience the highest or lowest incidents.\n",
        "\n",
        "**Geospatial Clustering** – A scatter plot using latitude & longitude may show high-risk zones where incidents frequently occur.\n",
        "\n",
        "**Heatmap Trends** – A heatmap focusing on hours or days might pinpoint times when events are most frequent."
      ],
      "metadata": {
        "id": "Xx8WAJvtYrdO"
      }
    },
    {
      "cell_type": "markdown",
      "source": [
        "##### 3. Will the gained insights help creating a positive business impact?\n",
        "Are there any insights that lead to negative growth? Justify with specific reason."
      ],
      "metadata": {
        "id": "y-Ehk30pYrdP"
      }
    },
    {
      "cell_type": "markdown",
      "source": [
        "**Mitigating Risks & Leveraging Insights**\n",
        "\n",
        "Even negative trends can be turned into strategic opportunities—for example:\n",
        "\n",
        "Businesses can invest in preventive safety measures to improve customer trust.\n",
        "Government agencies can focus on urban planning & crime prevention in identified hotspots.\n",
        "Companies can adjust their marketing strategies based on location-based risks."
      ],
      "metadata": {
        "id": "jLNxxz7MYrdP"
      }
    },
    {
      "cell_type": "markdown",
      "source": [
        "#### Chart - 5"
      ],
      "metadata": {
        "id": "bamQiAODYuh1"
      }
    },
    {
      "cell_type": "code",
      "source": [
        "# Chart - 5 visualization code\n",
        "plt.rcParams['figure.figsize'] = 12,9\n",
        "labels = df['TYPE'].value_counts().index\n",
        "sizes = df['TYPE'].value_counts().values\n",
        "plt.pie(sizes, labels=labels, autopct='%1.0f%%')\n",
        "plt.title('Crime Type Distribution')\n",
        "plt.show()"
      ],
      "metadata": {
        "id": "TIJwrbroYuh3"
      },
      "execution_count": null,
      "outputs": []
    },
    {
      "cell_type": "markdown",
      "source": [
        "##### 1. Why did you pick the specific chart?"
      ],
      "metadata": {
        "id": "QHF8YVU7Yuh3"
      }
    },
    {
      "cell_type": "markdown",
      "source": [
        "As this is a Univariate Analysis,we compare the data from one variable or one column \"crime\",so we have considered pie chat"
      ],
      "metadata": {
        "id": "dcxuIMRPYuh3"
      }
    },
    {
      "cell_type": "markdown",
      "source": [
        "##### 2. What is/are the insight(s) found from the chart?"
      ],
      "metadata": {
        "id": "GwzvFGzlYuh3"
      }
    },
    {
      "cell_type": "markdown",
      "source": [
        "we found that the booking number is higher in theft from vehicle which is 32% than Mischief which is 13%.hence we can say that theft from vehicle has consumption"
      ],
      "metadata": {
        "id": "uyqkiB8YYuh3"
      }
    },
    {
      "cell_type": "markdown",
      "source": [
        "##### 3. Will the gained insights help creating a positive business impact?\n",
        "Are there any insights that lead to negative growth? Justify with specific reason."
      ],
      "metadata": {
        "id": "qYpmQ266Yuh3"
      }
    },
    {
      "cell_type": "markdown",
      "source": [
        "Positive Business Impact: Theft from Vehicle (32%) High demand for vehicle security solutions (alarms, GPS, insurance). Opportunity for safety tech businesses.\n",
        "\n",
        "Mischief (13%) & Break and Enter (12%) Demand for home security systems and neighborhood watch services.\n",
        "\n",
        "Offence Against a Person (10%) Potential for personal safety apps and self-defense products.\n",
        "\n",
        "Negative Growth Indicators: Theft of Bicycle (5%) & Vehicle Collision with Injury (4%) May reflect urban safety issues. Could discourage tourism or local travel unless mitigated.\n",
        "\n",
        "Break and Enter Commercial (6%) Might lead to increased business insurance costs or reluctance to open stores in affected areas."
      ],
      "metadata": {
        "id": "_WtzZ_hCYuh4"
      }
    },
    {
      "cell_type": "markdown",
      "source": [
        "#### Chart - 6"
      ],
      "metadata": {
        "id": "OH-pJp9IphqM"
      }
    },
    {
      "cell_type": "code",
      "source": [
        "# Chart - 6 visualization code\n",
        "grouped_by_crime = df['TYPE'].value_counts()\n",
        "grouped_by_crime"
      ],
      "metadata": {
        "id": "kuRf4wtuphqN"
      },
      "execution_count": null,
      "outputs": []
    },
    {
      "cell_type": "markdown",
      "source": [
        "##### 1. Why did you pick the specific chart?"
      ],
      "metadata": {
        "id": "bbFf2-_FphqN"
      }
    },
    {
      "cell_type": "markdown",
      "source": [
        "The table is paired with a bar chart to provide precise numeric values for each crime type, enabling accurate comparison and analysis."
      ],
      "metadata": {
        "id": "loh7H2nzphqN"
      }
    },
    {
      "cell_type": "markdown",
      "source": [
        "##### 2. What is/are the insight(s) found from the chart?"
      ],
      "metadata": {
        "id": "_ouA3fa0phqN"
      }
    },
    {
      "cell_type": "markdown",
      "source": [
        "\"Theft from Vehicle\" is the dominant crime type with 153,932 cases, over double the next most frequent.\n",
        "\n",
        "Crimes like Mischief, Break and Enter, and Offence Against a Person also have significant counts.\n",
        "\n",
        "Lower occurrences in Bicycle Theft and Pedestrian Struck with Injury."
      ],
      "metadata": {
        "id": "VECbqPI7phqN"
      }
    },
    {
      "cell_type": "markdown",
      "source": [
        "##### 3. Will the gained insights help creating a positive business impact?\n",
        "Are there any insights that lead to negative growth? Justify with specific reason."
      ],
      "metadata": {
        "id": "Seke61FWphqN"
      }
    },
    {
      "cell_type": "markdown",
      "source": [
        "**Positive Business Impact:**\n",
        "\n",
        "Supports data-driven decisions in crime prevention, security investments, and insurance policy planning.\n",
        "\n",
        "Helps law enforcement focus on high-frequency crimes, improving community trust and safety.\n",
        "\n",
        "**Negative Growth Insight:**\n",
        "\n",
        "Extremely high vehicle-related thefts may discourage urban mobility, reduce customer confidence, and increase costs for vehicle owners and businesses relying on transport/logistics."
      ],
      "metadata": {
        "id": "DW4_bGpfphqN"
      }
    },
    {
      "cell_type": "markdown",
      "source": [
        "#### Chart - 7"
      ],
      "metadata": {
        "id": "PIIx-8_IphqN"
      }
    },
    {
      "cell_type": "code",
      "source": [
        "# Chart - 7 visualization code\n",
        "import matplotlib.pyplot as plt\n",
        "import seaborn as sns\n",
        "\n",
        "# Check if the DataFrame is loaded and has the 'TYPE' column\n",
        "if df is not None and 'TYPE' in df.columns:\n",
        "    # Get the top 10 most frequent crime types for visualization\n",
        "    top_n = 10\n",
        "    top_crime_types = df['TYPE'].value_counts().nlargest(top_n).index\n",
        "    df_top_crimes = df[df['TYPE'].isin(top_crime_types)]\n",
        "\n",
        "    # Create a countplot for the top crime types\n",
        "    plt.figure(figsize=(12, 8))\n",
        "    sns.countplot(data=df_top_crimes, y='TYPE', order=top_crime_types, palette='viridis')\n",
        "    plt.title(f'Top {top_n} Most Frequent Crime Types')\n",
        "    plt.xlabel('Count')\n",
        "    plt.ylabel('Crime Type')\n",
        "    plt.tight_layout() # Adjust layout to prevent labels overlapping\n",
        "    plt.show()\n",
        "else:\n",
        "    print(\"\\nSkipping Chart - 7 visualization as the dataset was not loaded or 'TYPE' column is missing.\")"
      ],
      "metadata": {
        "id": "lqAIGUfyphqO"
      },
      "execution_count": null,
      "outputs": []
    },
    {
      "cell_type": "markdown",
      "source": [
        "##### 1. Why did you pick the specific chart?"
      ],
      "metadata": {
        "id": "t27r6nlMphqO"
      }
    },
    {
      "cell_type": "markdown",
      "source": [
        "A horizontal bar chart is ideal for comparing categories with long labels (like crime types). It clearly shows the frequency of each crime type."
      ],
      "metadata": {
        "id": "iv6ro40sphqO"
      }
    },
    {
      "cell_type": "markdown",
      "source": [
        "##### 2. What is/are the insight(s) found from the chart?"
      ],
      "metadata": {
        "id": "r2jJGEOYphqO"
      }
    },
    {
      "cell_type": "markdown",
      "source": [
        "Theft from Vehicle is the most frequent crime, with a count far exceeding all others.\n",
        "\n",
        "Mischief, Break and Enter, and Offence Against a Person are also common.\n",
        "\n",
        "Vehicle collisions with injury are the least frequent among the top 10."
      ],
      "metadata": {
        "id": "Po6ZPi4hphqO"
      }
    },
    {
      "cell_type": "markdown",
      "source": [
        "##### 3. Will the gained insights help creating a positive business impact?\n",
        "Are there any insights that lead to negative growth? Justify with specific reason."
      ],
      "metadata": {
        "id": "b0JNsNcRphqO"
      }
    },
    {
      "cell_type": "markdown",
      "source": [
        "**Positive Business Impact:**\n",
        "\n",
        "Helps law enforcement prioritize resources (e.g., patrols in high theft areas).\n",
        "\n",
        "Insurance companies can adjust premiums or suggest security solutions.\n",
        "\n",
        "Urban planners can improve lighting or surveillance in hotspots.\n",
        "\n",
        "**Negative Growth Insight:**\n",
        "\n",
        "High volume of Theft from Vehicle may indicate a lack of public safety, leading to:\n",
        "\n",
        "Decreased property values.\n",
        "\n",
        "Reduced consumer footfall in affected areas.\n",
        "\n",
        "Increased insurance costs."
      ],
      "metadata": {
        "id": "xvSq8iUTphqO"
      }
    },
    {
      "cell_type": "markdown",
      "source": [
        "#### Chart - 8"
      ],
      "metadata": {
        "id": "BZR9WyysphqO"
      }
    },
    {
      "cell_type": "code",
      "source": [
        "# Chart - 8 visualization code\n",
        "import matplotlib.pyplot as plt\n",
        "import seaborn as sns\n",
        "\n",
        "# Check if the DataFrame is loaded and has 'HOUR' and 'TYPE' columns\n",
        "if df is not None and 'HOUR' in df.columns and 'TYPE' in df.columns:\n",
        "    plt.figure(figsize=(14, 8))\n",
        "    # Create a pivot table to count crime types by hour\n",
        "    crime_by_hour = df.groupby(['HOUR', 'TYPE']).size().unstack(fill_value=0)\n",
        "    # Plot the crime counts by hour for different crime types\n",
        "    crime_by_hour.plot(kind='line', figsize=(14, 8))\n",
        "    plt.title('Crime Count by Hour and Type')\n",
        "    plt.xlabel('Hour of Day')\n",
        "    plt.ylabel('Number of Incidents')\n",
        "    plt.xticks(range(24)) # Ensure all hours are shown on x-axis\n",
        "    plt.legend(title='Crime Type', bbox_to_anchor=(1.05, 1), loc='upper left') # Move legend outside plot\n",
        "    plt.grid(True)\n",
        "    plt.tight_layout() # Adjust layout to prevent labels overlapping\n",
        "    plt.show()\n",
        "else:\n",
        "    print(\"\\nSkipping Chart - 8 visualization as the dataset was not loaded or required columns ('HOUR', 'TYPE') are missing.\")"
      ],
      "metadata": {
        "id": "TdPTWpAVphqO"
      },
      "execution_count": null,
      "outputs": []
    },
    {
      "cell_type": "markdown",
      "source": [
        "##### 1. Why did you pick the specific chart?"
      ],
      "metadata": {
        "id": "jj7wYXLtphqO"
      }
    },
    {
      "cell_type": "markdown",
      "source": [
        "To understand crime patterns by hour and crime type behavior over a day."
      ],
      "metadata": {
        "id": "Ob8u6rCTphqO"
      }
    },
    {
      "cell_type": "markdown",
      "source": [
        "##### 2. What is/are the insight(s) found from the chart?"
      ],
      "metadata": {
        "id": "eZrbJ2SmphqO"
      }
    },
    {
      "cell_type": "markdown",
      "source": [
        "Theft from Vehicle peaks between 16:00–19:00 hrs.\n",
        "\n",
        "Most crimes are low at night (2 AM–5 AM).\n",
        "\n",
        "Break-ins and Mischief are more frequent midday to evening."
      ],
      "metadata": {
        "id": "mZtgC_hjphqO"
      }
    },
    {
      "cell_type": "markdown",
      "source": [
        "##### 3. Will the gained insights help creating a positive business impact?\n",
        "Are there any insights that lead to negative growth? Justify with specific reason."
      ],
      "metadata": {
        "id": "rFu4xreNphqO"
      }
    },
    {
      "cell_type": "markdown",
      "source": [
        "**Positive Business Impact:**\n",
        "Enables timely police deployment during peak hours.\n",
        "\n",
        "Businesses can adjust security staffing and surveillance timing.\n",
        "\n",
        "**Negative Growth Risk:**\n",
        "High evening crime may reduce customer footfall in shopping or entertainment areas, affecting sales."
      ],
      "metadata": {
        "id": "ey_0qi68phqO"
      }
    },
    {
      "cell_type": "markdown",
      "source": [
        "#### Chart - 9"
      ],
      "metadata": {
        "id": "YJ55k-q6phqO"
      }
    },
    {
      "cell_type": "code",
      "source": [
        "# Chart - 9 visualization code\n",
        "import matplotlib.pyplot as plt\n",
        "import seaborn as sns\n",
        "\n",
        "# Check if the DataFrame is loaded and has the 'MONTH' column\n",
        "if df is not None and 'MONTH' in df.columns:\n",
        "    plt.figure(figsize=(12, 6))\n",
        "    # Create a countplot for the distribution of crimes by month\n",
        "    # We can use a specific order for the months (1 to 12) to make the plot chronological\n",
        "    month_order = range(1, 13)\n",
        "    sns.countplot(data=df, x='MONTH', order=month_order, palette='viridis')\n",
        "    plt.title('Total Crime Count by Month')\n",
        "    plt.xlabel('Month')\n",
        "    plt.ylabel('Number of Incidents')\n",
        "    plt.xticks(ticks=month_order, labels=['Jan', 'Feb', 'Mar', 'Apr', 'May', 'Jun', 'Jul', 'Aug', 'Sep', 'Oct', 'Nov', 'Dec'])\n",
        "    plt.grid(axis='y', linestyle='--')\n",
        "    plt.show()\n",
        "else:\n",
        "    print(\"\\nSkipping Chart - 10 visualization as the dataset was not loaded or 'MONTH' column is missing.\")"
      ],
      "metadata": {
        "id": "B2aS4O1ophqO"
      },
      "execution_count": null,
      "outputs": []
    },
    {
      "cell_type": "markdown",
      "source": [
        "##### 1. Why did you pick the specific chart?"
      ],
      "metadata": {
        "id": "gCFgpxoyphqP"
      }
    },
    {
      "cell_type": "markdown",
      "source": [
        "To identify monthly trends in crime and detect seasonal patterns."
      ],
      "metadata": {
        "id": "TVxDimi2phqP"
      }
    },
    {
      "cell_type": "markdown",
      "source": [
        "##### 2. What is/are the insight(s) found from the chart?"
      ],
      "metadata": {
        "id": "OVtJsKN_phqQ"
      }
    },
    {
      "cell_type": "markdown",
      "source": [
        "July and September show the highest crime counts.\n",
        "\n",
        "February and December have the lowest."
      ],
      "metadata": {
        "id": "ngGi97qjphqQ"
      }
    },
    {
      "cell_type": "markdown",
      "source": [
        "##### 3. Will the gained insights help creating a positive business impact?\n",
        "Are there any insights that lead to negative growth? Justify with specific reason."
      ],
      "metadata": {
        "id": "lssrdh5qphqQ"
      }
    },
    {
      "cell_type": "markdown",
      "source": [
        "**Positive Business Impact:**\n",
        "Helps plan seasonal police patrols and public awareness campaigns.\n",
        "\n",
        "Businesses can adjust security spending based on high-crime months.\n",
        "\n",
        "**Negative Growth Risk:**\n",
        "High crime in summer months (e.g., July) may deter tourism or outdoor events, affecting local revenue."
      ],
      "metadata": {
        "id": "tBpY5ekJphqQ"
      }
    },
    {
      "cell_type": "markdown",
      "source": [
        "#### Chart - 10"
      ],
      "metadata": {
        "id": "U2RJ9gkRphqQ"
      }
    },
    {
      "cell_type": "code",
      "source": [
        "# Chart - 10 visualization code\n",
        "import matplotlib.pyplot as plt\n",
        "import seaborn as sns\n",
        "import pandas as pd # Ensure pandas is imported\n",
        "\n",
        "# Check if the DataFrame is loaded and has the 'Date' column\n",
        "if df is not None and 'Date' in df.columns:\n",
        "    # Ensure 'Date' column is in datetime format\n",
        "    try:\n",
        "        df['Date'] = pd.to_datetime(df['Date'])\n",
        "        # Extract the day of the week (0=Monday, 6=Sunday)\n",
        "        df['Day_of_Week'] = df['Date'].dt.dayofweek\n",
        "\n",
        "        plt.figure(figsize=(10, 6))\n",
        "        # Create a countplot for the distribution of crimes by day of the week\n",
        "        # Order the days from Monday to Sunday\n",
        "        day_order = range(7)\n",
        "        day_labels = ['Mon', 'Tue', 'Wed', 'Thu', 'Fri', 'Sat', 'Sun']\n",
        "        sns.countplot(data=df, x='Day_of_Week', order=day_order, palette='viridis')\n",
        "        plt.title('Total Crime Count by Day of the Week')\n",
        "        plt.xlabel('Day of Week')\n",
        "        plt.ylabel('Number of Incidents')\n",
        "        plt.xticks(ticks=day_order, labels=day_labels)\n",
        "        plt.grid(axis='y', linestyle='--')\n",
        "        plt.show()\n",
        "\n",
        "    except Exception as e:\n",
        "        print(f\"Error processing 'Date' column or plotting: {e}\")\n",
        "        print(\"\\nSkipping Chart - 11 visualization.\")\n",
        "\n",
        "else:\n",
        "    print(\"\\nSkipping Chart - 11 visualization as the dataset was not loaded or 'Date' column is missing.\")"
      ],
      "metadata": {
        "id": "GM7a4YP4phqQ"
      },
      "execution_count": null,
      "outputs": []
    },
    {
      "cell_type": "markdown",
      "source": [
        "##### 1. Why did you pick the specific chart?"
      ],
      "metadata": {
        "id": "1M8mcRywphqQ"
      }
    },
    {
      "cell_type": "markdown",
      "source": [
        "To analyze crime distribution by weekdays and spot peak crime days."
      ],
      "metadata": {
        "id": "8agQvks0phqQ"
      }
    },
    {
      "cell_type": "markdown",
      "source": [
        "##### 2. What is/are the insight(s) found from the chart?"
      ],
      "metadata": {
        "id": "tgIPom80phqQ"
      }
    },
    {
      "cell_type": "markdown",
      "source": [
        "Monday and Sunday have the highest crime rates.\n",
        "\n",
        "Crime is fairly consistent across the rest of the week."
      ],
      "metadata": {
        "id": "Qp13pnNzphqQ"
      }
    },
    {
      "cell_type": "markdown",
      "source": [
        "##### 3. Will the gained insights help creating a positive business impact?\n",
        "Are there any insights that lead to negative growth? Justify with specific reason."
      ],
      "metadata": {
        "id": "JMzcOPDDphqR"
      }
    },
    {
      "cell_type": "markdown",
      "source": [
        "**Positive Business Impact:**\n",
        "Allows strategic deployment of law enforcement on high-crime days.\n",
        "\n",
        "Helps businesses increase security during peak-risk times.\n",
        "\n",
        "**Negative Growth Risk:**\n",
        "High crime on weekends may affect weekend business traffic (e.g., malls, markets).\n",
        "\n",
        "May lead to reduced public activity or lower customer trust."
      ],
      "metadata": {
        "id": "R4Ka1PC2phqR"
      }
    },
    {
      "cell_type": "markdown",
      "source": [
        "#### Chart - 11"
      ],
      "metadata": {
        "id": "x-EpHcCOp1ci"
      }
    },
    {
      "cell_type": "code",
      "source": [
        "# Chart - 11 visualization code\n",
        "import matplotlib.pyplot as plt\n",
        "import seaborn as sns\n",
        "\n",
        "# Check if the DataFrame is loaded and has the 'NEIGHBOURHOOD' column\n",
        "if df is not None and 'NEIGHBOURHOOD' in df.columns:\n",
        "    plt.figure(figsize=(12, 8))\n",
        "\n",
        "    # Get the count of incidents per neighborhood\n",
        "    neighborhood_counts = df['NEIGHBOURHOOD'].value_counts()\n",
        "\n",
        "    # Select the top N neighborhoods (e.g., top 15)\n",
        "    top_n_neighborhoods = 15\n",
        "    if len(neighborhood_counts) > top_n_neighborhoods:\n",
        "        top_neighborhood_list = neighborhood_counts.nlargest(top_n_neighborhoods).index\n",
        "        # Filter the dataframe to include only the top neighborhoods for plotting order\n",
        "        df_top_neighborhoods = df[df['NEIGHBOURHOOD'].isin(top_neighborhood_list)]\n",
        "        # Use a countplot ordered by the top neighborhoods\n",
        "        sns.countplot(data=df_top_neighborhoods, y='NEIGHBOURHOOD', order=top_neighborhood_list, palette='viridis')\n",
        "        plt.title(f'Top {top_n_neighborhoods} Crime Incidents by Neighborhood')\n",
        "    else:\n",
        "        # If fewer than top_n_neighborhoods, just plot all of them ordered by count\n",
        "        sns.countplot(data=df, y='NEIGHBOURHOOD', order=neighborhood_counts.index, palette='viridis')\n",
        "        plt.title('Crime Incidents by Neighborhood')\n",
        "\n",
        "\n",
        "    plt.xlabel('Number of Incidents')\n",
        "    plt.ylabel('Neighborhood')\n",
        "    plt.tight_layout() # Adjust layout to prevent labels overlapping\n",
        "    plt.show()\n",
        "\n",
        "else:\n",
        "    print(\"\\nSkipping Chart - 12 visualization as the dataset was not loaded or 'NEIGHBOURHOOD' column is missing.\")"
      ],
      "metadata": {
        "id": "mAQTIvtqp1cj"
      },
      "execution_count": null,
      "outputs": []
    },
    {
      "cell_type": "markdown",
      "source": [
        "##### 1. Why did you pick the specific chart?"
      ],
      "metadata": {
        "id": "X_VqEhTip1ck"
      }
    },
    {
      "cell_type": "markdown",
      "source": [
        "To compare crime levels across neighborhoods and identify high-risk areas."
      ],
      "metadata": {
        "id": "-vsMzt_np1ck"
      }
    },
    {
      "cell_type": "markdown",
      "source": [
        "##### 2. What is/are the insight(s) found from the chart?"
      ],
      "metadata": {
        "id": "8zGJKyg5p1ck"
      }
    },
    {
      "cell_type": "markdown",
      "source": [
        "Central Business District has the highest number of incidents by far.\n",
        "\n",
        "West End and Fairview follow, but with significantly fewer cases.\n",
        "\n",
        "Crime decreases gradually across other neighborhoods."
      ],
      "metadata": {
        "id": "ZYdMsrqVp1ck"
      }
    },
    {
      "cell_type": "markdown",
      "source": [
        "##### 3. Will the gained insights help creating a positive business impact?\n",
        "Are there any insights that lead to negative growth? Justify with specific reason."
      ],
      "metadata": {
        "id": "PVzmfK_Ep1ck"
      }
    },
    {
      "cell_type": "markdown",
      "source": [
        "**Positive Business Impact:**\n",
        "Enables targeted policing and resource allocation.\n",
        "\n",
        "Helps city planners prioritize safety improvements in high-crime areas.\n",
        "\n",
        "**Negative Growth Risk:**\n",
        "High crime in central areas may harm business reputation and tourism.\n",
        "\n",
        "Can lead to lower property values and reduced investor interest."
      ],
      "metadata": {
        "id": "druuKYZpp1ck"
      }
    },
    {
      "cell_type": "markdown",
      "source": [
        "#### Chart - 12"
      ],
      "metadata": {
        "id": "n3dbpmDWp1ck"
      }
    },
    {
      "cell_type": "code",
      "source": [
        "# Chart - 12 visualization code\n",
        "import matplotlib.pyplot as plt\n",
        "import seaborn as sns\n",
        "\n",
        "# Check if the DataFrame is loaded and has 'Latitude' and 'Longitude' columns\n",
        "if df is not None and 'Latitude' in df.columns and 'Longitude' in df.columns:\n",
        "    plt.figure(figsize=(10, 8))\n",
        "    # Create a scatter plot of Latitude vs Longitude\n",
        "    # Use alpha to see density where points overlap\n",
        "    sns.scatterplot(data=df, x='Longitude', y='Latitude', alpha=0.5, s=10) # s controls marker size\n",
        "    plt.title('Geographical Distribution of Crime Incidents')\n",
        "    plt.xlabel('Longitude')\n",
        "    plt.ylabel('Latitude')\n",
        "    plt.grid(True, linestyle='--', alpha=0.6)\n",
        "    plt.tight_layout() # Adjust layout\n",
        "    plt.show()\n",
        "else:\n",
        "    print(\"\\nSkipping Chart - 13 visualization as the dataset was not loaded or required columns ('Latitude', 'Longitude') are missing.\")"
      ],
      "metadata": {
        "id": "bwevp1tKp1ck"
      },
      "execution_count": null,
      "outputs": []
    },
    {
      "cell_type": "markdown",
      "source": [
        "##### 1. Why did you pick the specific chart?"
      ],
      "metadata": {
        "id": "ylSl6qgtp1ck"
      }
    },
    {
      "cell_type": "markdown",
      "source": [
        "To visualize crime locations using latitude and longitude—helps in identifying geographic crime hotspots."
      ],
      "metadata": {
        "id": "m2xqNkiQp1ck"
      }
    },
    {
      "cell_type": "markdown",
      "source": [
        "##### 2. What is/are the insight(s) found from the chart?"
      ],
      "metadata": {
        "id": "ZWILFDl5p1ck"
      }
    },
    {
      "cell_type": "markdown",
      "source": [
        "Most crimes are clustered in one region (top-left), likely the actual city.\n",
        "\n",
        "Few points appear far away, possibly due to data entry errors."
      ],
      "metadata": {
        "id": "x-lUsV2mp1ck"
      }
    },
    {
      "cell_type": "markdown",
      "source": [
        "##### 3. Will the gained insights help creating a positive business impact?\n",
        "Are there any insights that lead to negative growth? Justify with specific reason."
      ],
      "metadata": {
        "id": "M7G43BXep1ck"
      }
    },
    {
      "cell_type": "markdown",
      "source": [
        "**Positive Business Impact:**\n",
        "Helps in targeting high-crime areas.\n",
        "\n",
        "Can guide police resource allocation and urban safety planning.\n",
        "\n",
        "**Negative Growth Risk:**\n",
        "Incorrect coordinates (outliers) can lead to misleading insights if not cleaned.\n",
        "\n",
        "Affects map accuracy and decision-making."
      ],
      "metadata": {
        "id": "5wwDJXsLp1cl"
      }
    },
    {
      "cell_type": "markdown",
      "source": [
        "#### Chart - 13"
      ],
      "metadata": {
        "id": "Ag9LCva-p1cl"
      }
    },
    {
      "cell_type": "code",
      "source": [
        "# Chart - 13 visualization code\n",
        "import pandas as pd\n",
        "import seaborn as sns\n",
        "import matplotlib.pyplot as plt\n",
        "\n",
        "# Check if the DataFrame is loaded\n",
        "if df is not None:\n",
        "    # Select only numerical columns for correlation calculation\n",
        "    numerical_df = df.select_dtypes(include=['number'])\n",
        "\n",
        "    # Compute the correlation matrix\n",
        "    # .corr() will automatically handle NaNs by default (pairwise deletion)\n",
        "    correlation_matrix = numerical_df.corr()\n",
        "\n",
        "    # Set up the figure size\n",
        "    plt.figure(figsize=(10, 8))\n",
        "\n",
        "    # Generate the heatmap\n",
        "    sns.heatmap(correlation_matrix, annot=True, fmt=\".2f\", cmap=\"coolwarm\", linewidths=0.5)\n",
        "\n",
        "    # Add title\n",
        "    plt.title(\"Feature Correlation Heatmap\")\n",
        "\n",
        "    # Show the heatmap\n",
        "    plt.show()\n",
        "else:\n",
        "    print(\"\\nSkipping Chart - 14 visualization as the dataset was not loaded.\")"
      ],
      "metadata": {
        "id": "EUfxeq9-p1cl"
      },
      "execution_count": null,
      "outputs": []
    },
    {
      "cell_type": "markdown",
      "source": [
        "##### 1. Why did you pick the specific chart?"
      ],
      "metadata": {
        "id": "E6MkPsBcp1cl"
      }
    },
    {
      "cell_type": "markdown",
      "source": [
        "To find correlations between features and identify redundant or related variables."
      ],
      "metadata": {
        "id": "V22bRsFWp1cl"
      }
    },
    {
      "cell_type": "markdown",
      "source": [
        "##### 2. What is/are the insight(s) found from the chart?"
      ],
      "metadata": {
        "id": "2cELzS2fp1cl"
      }
    },
    {
      "cell_type": "markdown",
      "source": [
        "X, Y, Latitude are highly correlated → likely duplicates.\n",
        "\n",
        "Longitude is negatively correlated with them → possible data issue.\n",
        "\n",
        "Time features (Hour, Minute, etc.) have low correlation with location."
      ],
      "metadata": {
        "id": "ozQPc2_Ip1cl"
      }
    },
    {
      "cell_type": "markdown",
      "source": [
        "##### 3. Will the gained insights help creating a positive business impact?\n",
        "Are there any insights that lead to negative growth? Justify with specific reason."
      ],
      "metadata": {
        "id": "3MPXvC8up1cl"
      }
    },
    {
      "cell_type": "markdown",
      "source": [
        "**Positive Business Impact:**\n",
        "Helps in removing duplicate features.\n",
        "\n",
        "Highlights data quality issues to fix.\n",
        "\n",
        "Supports better model performance.\n",
        "\n",
        "**Negative Impact:**\n",
        "Ignoring strong/negative correlations may lead to wrong predictions or model errors."
      ],
      "metadata": {
        "id": "GL8l1tdLp1cl"
      }
    },
    {
      "cell_type": "markdown",
      "source": [
        "#### Chart - 14 - Correlation Heatmap"
      ],
      "metadata": {
        "id": "NC_X3p0fY2L0"
      }
    },
    {
      "cell_type": "code",
      "source": [
        "# Chart - 16 visualization code\n",
        "import matplotlib.pyplot as plt\n",
        "import seaborn as sns\n",
        "import pandas as pd\n",
        "\n",
        "# Check if the DataFrame is loaded and has 'YEAR' and 'TYPE' columns\n",
        "if df is not None and 'YEAR' in df.columns and 'TYPE' in df.columns:\n",
        "    plt.figure(figsize=(15, 8))\n",
        "\n",
        "    # Get the total count of incidents per year for each crime type\n",
        "    # We'll focus on the top N crime types to keep the plot manageable\n",
        "    top_n_types = 5 # Adjust N as needed\n",
        "    top_crime_types = df['TYPE'].value_counts().nlargest(top_n_types).index\n",
        "\n",
        "    # Filter the DataFrame to include only the top crime types\n",
        "    df_top_types = df[df['TYPE'].isin(top_crime_types)]\n",
        "\n",
        "    # Group by YEAR and TYPE and count the occurrences\n",
        "    crime_trend_by_type = df_top_types.groupby(['YEAR', 'TYPE']).size().unstack(fill_value=0)\n",
        "\n",
        "    # Plot the time series for each top crime type\n",
        "    crime_trend_by_type.plot(kind='line', figsize=(15, 8))\n",
        "\n",
        "    plt.title(f'Annual Crime Trends for Top {top_n_types} Crime Types')\n",
        "    plt.xlabel('Year')\n",
        "    plt.ylabel('Number of Incidents')\n",
        "    plt.xticks(crime_trend_by_type.index) # Ensure all years are shown on x-axis\n",
        "    plt.legend(title='Crime Type', bbox_to_anchor=(1.05, 1), loc='upper left') # Move legend outside plot\n",
        "    plt.grid(True)\n",
        "    plt.tight_layout() # Adjust layout\n",
        "    plt.show()\n",
        "else:\n",
        "    print(\"\\nSkipping Chart - 16 visualization as the dataset was not loaded or required columns ('YEAR', 'TYPE') are missing.\")"
      ],
      "metadata": {
        "id": "xyC9zolEZNRQ"
      },
      "execution_count": null,
      "outputs": []
    },
    {
      "cell_type": "markdown",
      "source": [
        "##### 1. Why did you pick the specific chart?"
      ],
      "metadata": {
        "id": "UV0SzAkaZNRQ"
      }
    },
    {
      "cell_type": "markdown",
      "source": [
        "**Trend Visualization:** Line charts are ideal for visualizing how data changes over time. Here, it effectively captures the long-term crime trends.\n",
        "\n",
        "**Category Comparison:** The chart allows for a clear comparison between different crime types across years.\n",
        "\n",
        "**Data Density:** With yearly data and multiple categories, the line chart avoids clutter and remains easy to interpret."
      ],
      "metadata": {
        "id": "DVPuT8LYZNRQ"
      }
    },
    {
      "cell_type": "markdown",
      "source": [
        "##### 2. What is/are the insight(s) found from the chart?"
      ],
      "metadata": {
        "id": "YPEH6qLeZNRQ"
      }
    },
    {
      "cell_type": "markdown",
      "source": [
        "Theft from Vehicle was highest, with a sharp drop from 1999 to 2007, then a slight rise.\n",
        "\n",
        "Break and Enter and Mischief show a steady decline.\n",
        "\n",
        "Other Theft and Offences Against the Person remained mostly stable.\n",
        "\n",
        "Overall crime decreased during this period."
      ],
      "metadata": {
        "id": "bfSqtnDqZNRR"
      }
    },
    {
      "cell_type": "markdown",
      "source": [
        "#### Chart - 15 - Pair Plot"
      ],
      "metadata": {
        "id": "q29F0dvdveiT"
      }
    },
    {
      "cell_type": "code",
      "source": [
        "# Chart - 15 visualization code\n",
        "import pandas as pd\n",
        "import seaborn as sns\n",
        "import matplotlib.pyplot as plt\n",
        "# import sys # No longer needed for this error handling approach\n",
        "\n",
        "# Load your dataset\n",
        "# Assuming the file path is correct based on your previous code\n",
        "# try:\n",
        "#     df = pd.read_excel('/content/drive/MyDrive/Train.xlsx') # Loading again might not be necessary if df is already loaded\n",
        "\n",
        "# Check if the DataFrame is loaded\n",
        "if df is not None:\n",
        "    # Select a subset of numerical columns for the pair plot\n",
        "    # Choose columns that are most likely to have interesting relationships\n",
        "    selected_columns = [\"YEAR\", \"MONTH\", \"HOUR\", \"Latitude\", \"Longitude\"]\n",
        "\n",
        "    # Check if selected_columns exist in the dataframe before subsetting\n",
        "    missing_cols = [col for col in selected_columns if col not in df.columns]\n",
        "    if missing_cols:\n",
        "        print(f\"Skipping Chart - 15 visualization: Missing columns for Pair Plot: {missing_cols}\")\n",
        "    else:\n",
        "        # Create a subset DataFrame with the selected numerical columns\n",
        "        df_subset = df[selected_columns]\n",
        "\n",
        "        # Create the pair plot\n",
        "        # This can take time depending on the number of rows and columns selected\n",
        "        print(\"Generating Pair Plot (this might take a moment)...\")\n",
        "        sns.pairplot(df_subset, palette='viridis', diag_kind='kde') # diag_kind='kde' for smoother density plots on diagonal\n",
        "\n",
        "        # Add a title to the overall figure (optional, often added manually after creation)\n",
        "        # plt.suptitle('Pair Plot of Selected Numerical Features', y=1.02) # Adjust y position as needed\n",
        "\n",
        "        plt.show()\n",
        "\n",
        "else:\n",
        "    print(\"\\nSkipping Chart - 15 visualization as the dataset was not loaded.\")"
      ],
      "metadata": {
        "id": "o58-TEIhveiU"
      },
      "execution_count": null,
      "outputs": []
    },
    {
      "cell_type": "markdown",
      "source": [
        "##### 1. Why did you pick the specific chart?"
      ],
      "metadata": {
        "id": "EXh0U9oCveiU"
      }
    },
    {
      "cell_type": "markdown",
      "source": [
        "**Multivariate Overview:** It helps in visualizing relationships between all pairs of variables in one view.\n",
        "\n",
        "**Distribution Check**: The diagonal plots show the distribution (histogram/kde) of each individual variable.\n",
        "\n",
        "**Correlation Insight:** Off-diagonal plots are scatter plots that can reveal trends, clusters, or correlations between variables.\n",
        "\n",
        "**Anomaly Detection:** It's easy to spot outliers and unusual patterns."
      ],
      "metadata": {
        "id": "eMmPjTByveiU"
      }
    },
    {
      "cell_type": "markdown",
      "source": [
        "##### 2. What is/are the insight(s) found from the chart?"
      ],
      "metadata": {
        "id": "22aHeOlLveiV"
      }
    },
    {
      "cell_type": "markdown",
      "source": [
        "**Year vs. Other Variables:**\n",
        "\n",
        "A clear declining trend is visible in the YEAR distribution, suggesting fewer data points in more recent years (peaking around early 2000s).\n",
        "\n",
        "**Month Distribution:**\n",
        "\n",
        "The MONTH variable is uniformly distributed, implying that data exists for all months fairly equally.\n",
        "\n",
        "**Hour Pattern:**\n",
        "\n",
        "The HOUR distribution shows peaks between 7 AM to 8 PM, indicating that most activities/events occur during daytime hours.\n",
        "\n",
        "**Latitude Distribution:**\n",
        "\n",
        "Latitude shows a narrow, tall peak suggesting that the majority of data points are clustered around a specific latitude range. This could indicate a geographic concentration of data collection (e.g., one city or region).\n",
        "\n",
        "**Lack of Obvious Relationships:**\n",
        "\n",
        "Many scatter plots appear as vertical/horizontal lines or tight clusters, indicating limited linear correlation between variables like Latitude vs. YEAR, or Latitude vs. HOUR."
      ],
      "metadata": {
        "id": "uPQ8RGwHveiV"
      }
    },
    {
      "cell_type": "markdown",
      "source": [
        "## **5. Solution to Business Objective**"
      ],
      "metadata": {
        "id": "JcMwzZxoAimU"
      }
    },
    {
      "cell_type": "markdown",
      "source": [
        "#### What do you suggest the client to achieve Business Objective ?\n",
        "Explain Briefly."
      ],
      "metadata": {
        "id": "8G2x9gOozGDZ"
      }
    },
    {
      "cell_type": "markdown",
      "source": [
        "**Suggested Approach to Achieve the Business Objective:**\n",
        "\n",
        "To help the client (e.g., law enforcement agencies, policy planners, or city administrations) achieve the business objective of reducing crime and improving resource efficiency through forecasting, the following actions are recommended:\n",
        "\n",
        "1. **Data Integration and Preprocessing:**\n",
        "   Collect and consolidate historical crime data from the FBI’s Uniform Crime Reporting (UCR) system. Clean, normalize, and structure the data to remove inconsistencies, handle missing values, and ensure uniform time formats for accurate forecasting.\n",
        "\n",
        "2. **Exploratory Data Analysis (EDA):**\n",
        "   Perform EDA to identify patterns, seasonality, trends, and anomalies in the data. Use visual tools such as time plots, correlation heatmaps, and boxplots to understand crime behavior over time and across different regions or categories.\n",
        "\n",
        "3. **Feature Engineering:**\n",
        "   Create additional time-based features like month, quarter, or holidays that may influence crime rates. Incorporate external variables (e.g., unemployment rate, weather, or population density) that correlate with crime spikes.\n",
        "\n",
        "4. **Model Selection and Forecasting:**\n",
        "   Implement and compare various time series forecasting models such as ARIMA, SARIMA, Prophet, and LSTM. Evaluate each model’s accuracy using performance metrics like RMSE, MAE, and MAPE. Select the most suitable model based on predictive performance and interpretability.\n",
        "\n",
        "5. **Forecast Visualization and Dashboarding:**\n",
        "   Present forecast results in interactive dashboards or reports that highlight upcoming trends, high-risk periods, and actionable insights. Use tools like Tableau or Power BI for real-time visibility.\n",
        "\n",
        "6. **Decision Support and Deployment:**\n",
        "   Integrate the model output into the client’s operational workflow. Recommend strategies for crime prevention during forecasted peak periods—such as increasing patrols, launching awareness campaigns, or reallocating budgets.\n",
        "\n",
        "7. **Continuous Monitoring and Updates:**\n",
        "   Periodically retrain models with new data to improve accuracy over time. Monitor actual outcomes versus forecasts to validate model reliability and adjust interventions accordingly.\n",
        "\n",
        "**In Summary:**\n",
        "By applying advanced analytics and continuous forecasting, the client can transition from reactive policing to proactive planning—ultimately achieving safer communities and more efficient law enforcement operations."
      ],
      "metadata": {
        "id": "pASKb0qOza21"
      }
    },
    {
      "cell_type": "markdown",
      "source": [
        "# **Conclusion**"
      ],
      "metadata": {
        "id": "gCX9965dhzqZ"
      }
    },
    {
      "cell_type": "markdown",
      "source": [
        "The FBI time series forecasting project aimed to analyze historical crime data and predict future crime trends using statistical and machine learning models. Through extensive exploratory data analysis (EDA), key patterns and trends were identified, such as seasonal fluctuations, long-term trends, and potential anomalies in various crime categories.\n",
        "\n",
        "Using models like ARIMA, SARIMA, and Prophet, we developed robust forecasting pipelines capable of predicting future crime occurrences with reasonable accuracy. The results demonstrated that time series models, especially those accounting for seasonality and trend, are effective tools for forecasting crime patterns.\n",
        "\n",
        "These forecasts can assist law enforcement agencies and policymakers in resource planning, strategic decision-making, and proactive crime prevention. By identifying potential surges in specific crime categories ahead of time, authorities can take informed actions to enhance public safety.\n",
        "\n",
        "Future improvements may include integrating external variables (e.g., unemployment rates, population data, or weather conditions) to improve forecast accuracy and expanding the model to cover regional or city-level crime forecasting."
      ],
      "metadata": {
        "id": "Fjb1IsQkh3yE"
      }
    },
    {
      "cell_type": "markdown",
      "source": [
        "### ***Hurrah! You have successfully completed your EDA Capstone Project !!!***"
      ],
      "metadata": {
        "id": "gIfDvo9L0UH2"
      }
    },
    {
      "cell_type": "code",
      "source": [
        "# Install required libraries\n",
        "# pip install pandas matplotlib prophet openpyxl # Added openpyxl for reading .xlsx files\n",
        "\n",
        "import pandas as pd\n",
        "import matplotlib.pyplot as plt\n",
        "from prophet import Prophet\n",
        "from sklearn.metrics import mean_absolute_error, mean_squared_error\n",
        "import numpy as np\n",
        "\n",
        "# Example: Aggregate total incidents by date\n",
        "if 'Date' in df.columns:\n",
        "    # Ensure 'Date' column is in datetime format\n",
        "    df['Date'] = pd.to_datetime(df['Date'])\n",
        "\n",
        "    # Aggregate data to get incident counts per date\n",
        "    # Count the occurrences of each date\n",
        "    df_agg = df['Date'].value_counts().reset_index()\n",
        "    df_agg.columns = ['ds', 'y'] # Rename columns for Prophet\n",
        "    df_agg = df_agg.sort_values('ds') # Sort by date\n",
        "    df_agg = df_agg.reset_index(drop=True)\n",
        "else:\n",
        "    print(\"Error: 'Date' column not found in the DataFrame. Cannot preprocess for Prophet.\")\n",
        "    df_agg = pd.DataFrame(columns=['ds', 'y']) # Create an empty DataFrame to prevent further errors\n",
        "\n",
        "\n",
        "if not df_agg.empty:\n",
        "    # Step 3: Train-Test Split (e.g., 80-20 split)\n",
        "    split_index = int(len(df_agg) * 0.8)\n",
        "    train = df_agg[:split_index]\n",
        "    test = df_agg[split_index:]\n",
        "\n",
        "    # Check if train data is sufficient\n",
        "    if len(train) < 2:\n",
        "        print(\"Error: Not enough data in the training set to build a Prophet model.\")\n",
        "    else:\n",
        "        # Step 4: Build the Prophet model\n",
        "        model = Prophet()\n",
        "        model.fit(train)\n",
        "\n",
        "        # Step 5: Create future dataframe and forecast\n",
        "        # Determine the frequency of your data. If it's daily counts, use freq='D'.\n",
        "        # If aggregated by month, use freq='M'. Your original data had YEAR, MONTH, DAY.\n",
        "        # Since we aggregated by 'Date', daily frequency seems appropriate unless you\n",
        "        # intend to forecast on a monthly level. Let's assume daily for now based on aggregation.\n",
        "        # If you need monthly forecast, you'd aggregate monthly.\n",
        "        future = model.make_future_dataframe(periods=len(test), freq='D') # Assuming daily frequency\n",
        "        forecast = model.predict(future)\n",
        "\n",
        "        # Step 6: Plot forecast\n",
        "        model.plot(forecast)\n",
        "        plt.title(\"FBI Crime Forecast\")\n",
        "        plt.xlabel(\"Date\")\n",
        "        plt.ylabel(\"Incident Count\") # Updated label\n",
        "        plt.tight_layout()\n",
        "        plt.show()\n",
        "\n",
        "        # Step 7: Evaluate model accuracy\n",
        "        # We need to align the forecast and test data by date ('ds')\n",
        "        forecast_test = forecast[['ds', 'yhat']].set_index('ds').join(test.set_index('ds'), how='inner')\n",
        "        forecast_test = forecast_test.dropna()\n",
        "\n",
        "        if not forecast_test.empty:\n",
        "            mae = mean_absolute_error(forecast_test['y'], forecast_test['yhat'])\n",
        "            rmse = np.sqrt(mean_squared_error(forecast_test['y'], forecast_test['yhat']))\n",
        "\n",
        "            print(f\"MAE: {mae:.2f}\")\n",
        "            print(f\"RMSE: {rmse:.2f}\")\n",
        "        else:\n",
        "             print(\"\\nCould not evaluate model accuracy: No overlapping dates between forecast and test data.\")\n",
        "\n",
        "else:\n",
        "    print(\"\\nSkipping Prophet forecasting as the aggregated DataFrame is empty.\")"
      ],
      "metadata": {
        "id": "dYX880etpL0x"
      },
      "execution_count": null,
      "outputs": []
    },
    {
      "cell_type": "code",
      "source": [
        "import pandas as pd\n",
        "import matplotlib.pyplot as plt\n",
        "import seaborn as sns\n",
        "\n",
        "# Check if the DataFrame is loaded and has the 'HOUR' column\n",
        "# We need to ensure 'df' is defined by running the preceding cells that load the data.\n",
        "# The error indicates 'df' was not defined when this cell was executed.\n",
        "# To prevent this NameError, you must run the cells that load the dataset\n",
        "# before running this cell.\n",
        "\n",
        "# Assuming df is already loaded from the previous cells and contains an 'HOUR' column\n",
        "\n",
        "if 'df' in locals() or 'df' in globals(): # Added check to see if df is defined\n",
        "    if df is not None and 'HOUR' in df.columns:\n",
        "        # Chart - New Visualization: Crime Count by Hour of the Day\n",
        "\n",
        "        # Aggregate data to count incidents per hour\n",
        "        crime_by_hour = df['HOUR'].value_counts().sort_index()\n",
        "\n",
        "        # Set up the figure size\n",
        "        plt.figure(figsize=(12, 6))\n",
        "\n",
        "        # Create a bar plot\n",
        "        sns.barplot(x=crime_by_hour.index, y=crime_by_hour.values, palette='viridis')\n",
        "\n",
        "        # Add titles and labels\n",
        "        plt.title('Total Crime Incidents by Hour of the Day')\n",
        "        plt.xlabel('Hour of Day (0-23)')\n",
        "        plt.ylabel('Number of Incidents')\n",
        "        plt.xticks(rotation=0) # Ensure hours are readable\n",
        "\n",
        "        # Add grid for better readability of counts\n",
        "        plt.grid(axis='y', linestyle='--')\n",
        "\n",
        "        # Show the plot\n",
        "        plt.tight_layout() # Adjust layout\n",
        "        plt.show()\n",
        "\n",
        "        print(\"\\n--- Insights from Crime Count by Hour Chart ---\")\n",
        "        print(f\"Peak hour for incidents: {crime_by_hour.idxmax()} with {crime_by_hour.max()} incidents.\")\n",
        "        print(f\"Lowest hour for incidents: {crime_by_hour.idxmin()} with {crime_by_hour.min()} incidents.\")\n",
        "\n",
        "    else:\n",
        "        # This else block is for when df is defined but 'HOUR' column is missing\n",
        "        if 'df' in locals() or 'df' in globals():\n",
        "             print(\"\\nSkipping Crime Count by Hour visualization as 'HOUR' column is missing from the dataset.\")\n",
        "        # If df is not defined, the first if condition ('df' in locals() or 'df' in globals()) will handle it.\n",
        "\n",
        "else:\n",
        "    # This else block is for when df is not defined at all\n",
        "    print(\"\\nSkipping Crime Count by Hour visualization as the dataset 'df' was not loaded.\")"
      ],
      "metadata": {
        "id": "-6Vl263upPVI"
      },
      "execution_count": null,
      "outputs": []
    }
  ]
}